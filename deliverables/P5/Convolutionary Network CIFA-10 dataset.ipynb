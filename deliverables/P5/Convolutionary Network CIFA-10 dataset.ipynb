{
 "cells": [
  {
   "cell_type": "markdown",
   "metadata": {},
   "source": [
    "# CIFA-10 dataset \n",
    "Door Gerrit van de Bunt, 1756708, 2020-2021"
   ]
  },
  {
   "cell_type": "markdown",
   "metadata": {},
   "source": [
    "# Stap 0\n",
    "Tool collection, verzamel alle benodigde tools."
   ]
  },
  {
   "cell_type": "code",
   "execution_count": 1,
   "metadata": {},
   "outputs": [],
   "source": [
    "import tensorflow as tf \n",
    "import seaborn as sns\n",
    "import numpy as np\n",
    "import random\n",
    "import matplotlib.pyplot as plt\n",
    "\n",
    "from tensorflow.keras.datasets import mnist     # MNIST dataset is onderdeel van Keras\n",
    "from tensorflow.keras.models import Sequential  # Het type neuraal netwerk dat we gaan gebruiken\n",
    "\n",
    "from tensorflow.keras.preprocessing.image import ImageDataGenerator\n",
    "\n",
    "\n",
    "from tensorflow.keras.layers import Dense, Dropout, Activation, Conv2D, Conv3D, MaxPooling2D, ZeroPadding2D, AveragePooling2D, Flatten, BatchNormalization # Verschillende type lagen die we gaan gebruiken\n",
    "from tensorflow.keras.optimizers import SGD, Adam, schedules\n",
    "from tensorflow.keras.regularizers import L1, L2, l1_l2\n",
    "from tensorflow.keras import utils        # NumPy gerelateerde tools\n",
    "\n",
    "import tensorflow.keras.datasets.cifar10  # Target dataset"
   ]
  },
  {
   "cell_type": "markdown",
   "metadata": {},
   "source": [
    "# Stap 1 - Data collection\n",
    "Haal de benodigde data op, in dit geval de cifar-10 dataset uit tensorflow, en doe een kleine analyse over de data (vooral bedoeld om de integriteit te achterhalen)"
   ]
  },
  {
   "cell_type": "code",
   "execution_count": 2,
   "metadata": {},
   "outputs": [],
   "source": [
    "(X_train, Y_train), (X_test, Y_test) = tensorflow.keras.datasets.cifar10.load_data()"
   ]
  },
  {
   "cell_type": "code",
   "execution_count": 3,
   "metadata": {},
   "outputs": [
    {
     "data": {
      "text/plain": [
       "Text(0.5, 1.0, 'Class: [7]')"
      ]
     },
     "execution_count": 3,
     "metadata": {},
     "output_type": "execute_result"
    },
    {
     "data": {
      "image/png": "[encoded data removed]",
      "text/plain": [
       "<Figure size 432x288 with 1 Axes>"
      ]
     },
     "metadata": {
      "needs_background": "light"
     },
     "output_type": "display_data"
    }
   ],
   "source": [
    "# Deze cel laat een willekeurige foto zien en de bijbehorende klasse.\n",
    "randomindex = random.randint(0,len(X_train))\n",
    "plt.imshow(X_train[randomindex])\n",
    "plt.title(\"Class: {}\".format(Y_train[randomindex]))"
   ]
  },
  {
   "cell_type": "markdown",
   "metadata": {},
   "source": [
    "Class dictionary:\n",
    "\n",
    "0 = Airplane\\\n",
    "1 = Automobile\\\n",
    "2 = Bird\\\n",
    "3 = Cats\\\n",
    "4 = Deer\\\n",
    "5 = Dog\\\n",
    "6 = Frog\\\n",
    "7 = Horse\\\n",
    "8 = Ship\\\n",
    "9 = Truck"
   ]
  },
  {
   "cell_type": "markdown",
   "metadata": {},
   "source": [
    "# Stap 2 - Data preparation\n",
    "Het doel is om uiteindelijk eerst met een convolutionair netwerk te beginnen en dan over te gaan in een normaal neuraal netwerk. Hier komt nog wel het een en ander bij kijken; we zullen rekening moeten houden met hoe we onze data invoeren. In dit geval is de data precies zoals we die willen, en Keras regelt de overgang tussen de shapes zodra we de convolutionary layers gaan aanroepen, maar voor de zekerheid gaan we alsnog de data converteren."
   ]
  },
  {
   "cell_type": "code",
   "execution_count": 4,
   "metadata": {},
   "outputs": [
    {
     "name": "stdout",
     "output_type": "stream",
     "text": [
      "[[[ 59  62  63]\n",
      "  [ 43  46  45]\n",
      "  [ 50  48  43]\n",
      "  ...\n",
      "  [158 132 108]\n",
      "  [152 125 102]\n",
      "  [148 124 103]]\n",
      "\n",
      " [[ 16  20  20]\n",
      "  [  0   0   0]\n",
      "  [ 18   8   0]\n",
      "  ...\n",
      "  [123  88  55]\n",
      "  [119  83  50]\n",
      "  [122  87  57]]\n",
      "\n",
      " [[ 25  24  21]\n",
      "  [ 16   7   0]\n",
      "  [ 49  27   8]\n",
      "  ...\n",
      "  [118  84  50]\n",
      "  [120  84  50]\n",
      "  [109  73  42]]\n",
      "\n",
      " ...\n",
      "\n",
      " [[208 170  96]\n",
      "  [201 153  34]\n",
      "  [198 161  26]\n",
      "  ...\n",
      "  [160 133  70]\n",
      "  [ 56  31   7]\n",
      "  [ 53  34  20]]\n",
      "\n",
      " [[180 139  96]\n",
      "  [173 123  42]\n",
      "  [186 144  30]\n",
      "  ...\n",
      "  [184 148  94]\n",
      "  [ 97  62  34]\n",
      "  [ 83  53  34]]\n",
      "\n",
      " [[177 144 116]\n",
      "  [168 129  94]\n",
      "  [179 142  87]\n",
      "  ...\n",
      "  [216 184 140]\n",
      "  [151 118  84]\n",
      "  [123  92  72]]]\n"
     ]
    }
   ],
   "source": [
    "# Eerst achterhalen wat de shape is van de X-bestanden\n",
    "X_train[0].shape\n",
    "print(X_train[0])"
   ]
  },
  {
   "cell_type": "markdown",
   "metadata": {},
   "source": [
    "We hebben met elk exemplaar te maken met pixels (32x32), met daarin nog eens 3 kleuren (R,G,B)."
   ]
  },
  {
   "cell_type": "code",
   "execution_count": 5,
   "metadata": {},
   "outputs": [
    {
     "name": "stdout",
     "output_type": "stream",
     "text": [
      "(50000, 32, 32, 3)\n"
     ]
    }
   ],
   "source": [
    "print(X_train.shape)"
   ]
  },
  {
   "cell_type": "code",
   "execution_count": 6,
   "metadata": {},
   "outputs": [],
   "source": [
    "X_train = X_train.reshape(50000,32,32,3)\n",
    "X_test = X_test.reshape(10000,32,32,3)\n",
    "\n",
    "X_train = X_train.astype('float32')\n",
    "X_test = X_test.astype('float32')\n",
    "\n",
    "X_train /= 255                              \n",
    "X_test /= 255"
   ]
  },
  {
   "cell_type": "markdown",
   "metadata": {},
   "source": [
    "Uiteindelijk hebben we dan 50000 exemplaren."
   ]
  },
  {
   "cell_type": "code",
   "execution_count": 7,
   "metadata": {},
   "outputs": [
    {
     "name": "stdout",
     "output_type": "stream",
     "text": [
      "(1,)\n",
      "[6]\n",
      "(50000, 1)\n"
     ]
    }
   ],
   "source": [
    "print(Y_train[0].shape)\n",
    "print(Y_train[0])\n",
    "print(Y_train.shape)"
   ]
  },
  {
   "cell_type": "markdown",
   "metadata": {},
   "source": [
    "Tenslotte hebben we 50000 enkele lijsten voor de klasse van een object. Deze zullen we wel moeten omvormen naar een \"dummy\" list, omdat elke output van ons netwerk voor een klasse staat."
   ]
  },
  {
   "cell_type": "code",
   "execution_count": 8,
   "metadata": {},
   "outputs": [
    {
     "data": {
      "text/plain": [
       "array([[0., 0., 0., ..., 0., 0., 0.],\n",
       "       [0., 0., 0., ..., 0., 0., 1.],\n",
       "       [0., 0., 0., ..., 0., 0., 1.],\n",
       "       ...,\n",
       "       [0., 0., 0., ..., 0., 0., 1.],\n",
       "       [0., 1., 0., ..., 0., 0., 0.],\n",
       "       [0., 1., 0., ..., 0., 0., 0.]], dtype=float32)"
      ]
     },
     "execution_count": 8,
     "metadata": {},
     "output_type": "execute_result"
    }
   ],
   "source": [
    "classes = len(np.unique(Y_train))\n",
    "\n",
    "Y_train_labels = Y_train\n",
    "Y_test_labels = Y_test\n",
    "\n",
    "Y_train = utils.to_categorical(Y_train, classes)\n",
    "Y_test = utils.to_categorical(Y_test, classes)\n",
    "\n",
    "Y_train"
   ]
  },
  {
   "cell_type": "markdown",
   "metadata": {},
   "source": [
    "Onze data is nu georganiseerd. Verder willen we nog een aangepaste variant van de feature dataset hebben om zo te kunnen bewijzen dat ons convolutionaire netwerk \"robust\" is; kortom, we willen weten of het netwerk goed om kan gaan met kleine (of juist grote) wijzigingen in de beschikbare gegevens. Hiervoor maken we een nieuwe set aan."
   ]
  },
  {
   "cell_type": "code",
   "execution_count": 9,
   "metadata": {},
   "outputs": [],
   "source": [
    "img = ImageDataGenerator()\n",
    "img.fit(X_test)"
   ]
  },
  {
   "cell_type": "code",
   "execution_count": 10,
   "metadata": {},
   "outputs": [],
   "source": [
    "X_test_augmented, Y_test_augmented = next(img.flow(X_test,Y_test,batch_size=X_test.shape[0],shuffle=False))"
   ]
  },
  {
   "cell_type": "code",
   "execution_count": 11,
   "metadata": {},
   "outputs": [
    {
     "name": "stdout",
     "output_type": "stream",
     "text": [
      "<class 'numpy.ndarray'>\n"
     ]
    },
    {
     "data": {
      "image/png": "[encoded data removed]",
      "text/plain": [
       "<Figure size 432x288 with 1 Axes>"
      ]
     },
     "metadata": {
      "needs_background": "light"
     },
     "output_type": "display_data"
    },
    {
     "data": {
      "text/plain": [
       "Text(0.5, 1.0, 'Class: [6]')"
      ]
     },
     "execution_count": 11,
     "metadata": {},
     "output_type": "execute_result"
    },
    {
     "data": {
      "image/png": "[encoded data removed]",
      "text/plain": [
       "<Figure size 432x288 with 1 Axes>"
      ]
     },
     "metadata": {
      "needs_background": "light"
     },
     "output_type": "display_data"
    }
   ],
   "source": [
    "# Deze cel laat een willekeurige foto zien en de bijbehorende klasse.\n",
    "randomindex = random.randint(0,len(X_test_augmented))\n",
    "print(type(X_test_augmented[randomindex]))\n",
    "temp = X_test_augmented[randomindex]\n",
    "temp /= 255\n",
    "# print(X_test[randomindex])\n",
    "plt.imshow(X_test[randomindex])\n",
    "plt.title(\"Class: {}\".format(Y_train_labels[randomindex]))\n",
    "plt.show()\n",
    "plt.imshow(X_test_augmented[randomindex])\n",
    "plt.title(\"Class: {}\".format(Y_train_labels[randomindex])) # where(Y_train == max([randomindex]))"
   ]
  },
  {
   "cell_type": "markdown",
   "metadata": {},
   "source": [
    "# Stap 3 - Stel het model op\n",
    "Nu gaan we het model opstellen. Voor het opstellen van een convolutionair netwerk en/of neuraal netwerk bestaan heel veel bouwopties; er zijn zelfs al architecturen beschikbaar waarmee we ons netwerk kunnen opstellen. (https://towardsdatascience.com/illustrated-10-cnn-architectures-95d78ace614d)"
   ]
  },
  {
   "cell_type": "markdown",
   "metadata": {},
   "source": [
    "We zijn hier vooral geinteresseerd in twee architecturen uit de gegeven bron die we willen uitwerken;\n",
    "- LeNet-5 (1998)\n",
    "- Alexnet (2018)\n",
    "\n",
    "Tenslotte sluiten we af met een aanpak zoals we die kennen vanuit de theorie; een netwerk die opgesteld is aan de hand van drie patronen:\n",
    "- Convolutionairy Layer met ReLU\n",
    "- Convolutionairy Layer met ReLU & Maxpooling (afsluiten naar FCL's met Flatten())\n",
    "- Fully connected layers met ReLU"
   ]
  },
  {
   "cell_type": "markdown",
   "metadata": {},
   "source": [
    "Legenda:\n",
    "![title](images/Legenda-1.png)"
   ]
  },
  {
   "cell_type": "markdown",
   "metadata": {},
   "source": [
    "LeNet-5:\n",
    "![title](images/LeNet-5.png)"
   ]
  },
  {
   "cell_type": "markdown",
   "metadata": {},
   "source": [
    "Alexnet:\n",
    "![title](images/Alexnet.png)"
   ]
  },
  {
   "cell_type": "markdown",
   "metadata": {},
   "source": [
    "We gaan eerst gebruik maken van het architectuur van LeNet-5. Aangezien dit een best wel oud architectuur is, verwachten we wat tegenvallende resultaten."
   ]
  },
  {
   "cell_type": "markdown",
   "metadata": {},
   "source": [
    "# LeNet-5\n",
    "LeNet-5 maakt gebruik van wat andere technieken dan dat we gekend zijn; er wordt gebruik gemaakt van AveragePooling (hierbij wordt van een pool per cluster het gemiddelde berekend en teruggegeven, bron: https://en.wikipedia.org/wiki/Convolutional_neural_network#Pooling_layer ) en van tanh in plaats van de ReLU die we juist heel vaak terug zien in convolutionaire netwerken."
   ]
  },
  {
   "cell_type": "markdown",
   "metadata": {},
   "source": [
    "LeNet-5 begint met tweemaal een conv layer met een kernel van 5x5 en een averagepool, waarna hij direct overgaat naar drie fully connected layers."
   ]
  },
  {
   "cell_type": "code",
   "execution_count": 12,
   "metadata": {},
   "outputs": [],
   "source": [
    "model = Sequential()"
   ]
  },
  {
   "cell_type": "markdown",
   "metadata": {},
   "source": [
    "Voor het gemak pakken we er 32 filters bij. Dit zullen we doen voor alle lagen in ons netwerk, maar soms wijken we er vanaf; dan hebben we namelijk al veel patronen 'herkend' en is er minder te leren."
   ]
  },
  {
   "cell_type": "code",
   "execution_count": 13,
   "metadata": {},
   "outputs": [],
   "source": [
    "model.add(Conv2D(32,kernel_size=(5,5),input_shape=(32,32,3)))\n",
    "model.add(BatchNormalization(axis=-1))\n",
    "model.add(Activation(\"tanh\"))\n",
    "model.add(AveragePooling2D(pool_size=(2,2)))"
   ]
  },
  {
   "cell_type": "code",
   "execution_count": 14,
   "metadata": {},
   "outputs": [],
   "source": [
    "model.add(Conv2D(8,kernel_size=(5,5),input_shape=(32,32,3)))\n",
    "model.add(BatchNormalization(axis=-1))\n",
    "model.add(Activation(\"tanh\"))\n",
    "model.add(AveragePooling2D(pool_size=(2,2)))\n",
    "model.add(Flatten())"
   ]
  },
  {
   "cell_type": "code",
   "execution_count": 15,
   "metadata": {},
   "outputs": [],
   "source": [
    "model.add(Dense(120))\n",
    "model.add(BatchNormalization(axis=-1))\n",
    "model.add(Activation(\"tanh\"))"
   ]
  },
  {
   "cell_type": "code",
   "execution_count": 16,
   "metadata": {},
   "outputs": [],
   "source": [
    "model.add(Dense(84))\n",
    "model.add(BatchNormalization(axis=-1))\n",
    "model.add(Activation(\"tanh\"))"
   ]
  },
  {
   "cell_type": "code",
   "execution_count": 17,
   "metadata": {},
   "outputs": [],
   "source": [
    "model.add(Dense(10))\n",
    "model.add(BatchNormalization(axis=-1))\n",
    "model.add(Activation(\"softmax\"))"
   ]
  },
  {
   "cell_type": "markdown",
   "metadata": {},
   "source": [
    "We compilen het model met de categorial_crossentropy loss functie; deze berekent de loss uit voor targets waarbij het aantal classificaties meer dan 2 telt. Verder gebruiken we als optimizer adam."
   ]
  },
  {
   "cell_type": "code",
   "execution_count": 18,
   "metadata": {},
   "outputs": [],
   "source": [
    "model.compile(loss=\"categorical_crossentropy\",optimizer=\"adam\",metrics=[\"accuracy\"])"
   ]
  },
  {
   "cell_type": "code",
   "execution_count": 19,
   "metadata": {},
   "outputs": [
    {
     "name": "stdout",
     "output_type": "stream",
     "text": [
      "Epoch 1/10\n",
      "4000/4000 [==============================] - 41s 10ms/step - loss: 1.8096 - accuracy: 0.3522 - val_loss: 2.0930 - val_accuracy: 0.2938\n",
      "Epoch 2/10\n",
      "4000/4000 [==============================] - 44s 11ms/step - loss: 1.5976 - accuracy: 0.4247 - val_loss: 1.7760 - val_accuracy: 0.3709\n",
      "Epoch 3/10\n",
      "4000/4000 [==============================] - 48s 12ms/step - loss: 1.5136 - accuracy: 0.4531 - val_loss: 1.3530 - val_accuracy: 0.5231\n",
      "Epoch 4/10\n",
      "4000/4000 [==============================] - 47s 12ms/step - loss: 1.4640 - accuracy: 0.4735 - val_loss: 1.3103 - val_accuracy: 0.5353\n",
      "Epoch 5/10\n",
      "4000/4000 [==============================] - 49s 12ms/step - loss: 1.4202 - accuracy: 0.4910 - val_loss: 1.5388 - val_accuracy: 0.4608\n",
      "Epoch 6/10\n",
      "4000/4000 [==============================] - 50s 13ms/step - loss: 1.3843 - accuracy: 0.5045 - val_loss: 1.4158 - val_accuracy: 0.4935\n",
      "Epoch 7/10\n",
      "4000/4000 [==============================] - 53s 13ms/step - loss: 1.3491 - accuracy: 0.5191 - val_loss: 1.2460 - val_accuracy: 0.5565\n",
      "Epoch 8/10\n",
      "4000/4000 [==============================] - 55s 14ms/step - loss: 1.3193 - accuracy: 0.5304 - val_loss: 1.2601 - val_accuracy: 0.5574\n",
      "Epoch 9/10\n",
      "4000/4000 [==============================] - 57s 14ms/step - loss: 1.2887 - accuracy: 0.5424 - val_loss: 1.4149 - val_accuracy: 0.5060\n",
      "Epoch 10/10\n",
      "4000/4000 [==============================] - 58s 15ms/step - loss: 1.2636 - accuracy: 0.5543 - val_loss: 1.2512 - val_accuracy: 0.5689\n"
     ]
    }
   ],
   "source": [
    "outcome01 = model.fit(X_train,Y_train,batch_size=10,epochs=10,validation_split=0.2)"
   ]
  },
  {
   "cell_type": "code",
   "execution_count": 20,
   "metadata": {},
   "outputs": [
    {
     "data": {
      "text/plain": [
       "<matplotlib.legend.Legend at 0x239c9424b50>"
      ]
     },
     "execution_count": 20,
     "metadata": {},
     "output_type": "execute_result"
    },
    {
     "data": {
      "image/png": "[encoded data removed]",
      "text/plain": [
       "<Figure size 432x288 with 1 Axes>"
      ]
     },
     "metadata": {
      "needs_background": "light"
     },
     "output_type": "display_data"
    }
   ],
   "source": [
    "plt.plot(outcome01.history['accuracy'],label=\"Train set accuracy\")\n",
    "plt.plot(outcome01.history['loss'],label=\"Train set loss\")\n",
    "plt.plot(outcome01.history['val_accuracy'],label=\"Validation set accuracy\")\n",
    "plt.plot(outcome01.history['val_loss'],label=\"Validation set loss\")\n",
    "plt.legend()"
   ]
  },
  {
   "cell_type": "code",
   "execution_count": 21,
   "metadata": {},
   "outputs": [
    {
     "name": "stdout",
     "output_type": "stream",
     "text": [
      "313/313 [==============================] - 2s 8ms/step - loss: 1.2494 - accuracy: 0.5660\n"
     ]
    }
   ],
   "source": [
    "outcome02 = model.evaluate(X_test,Y_test)"
   ]
  },
  {
   "cell_type": "markdown",
   "metadata": {},
   "source": [
    "# Alexnet"
   ]
  },
  {
   "cell_type": "markdown",
   "metadata": {},
   "source": [
    "Alexnet is in tegenstelling tot LeNet-5 een stuk zwaarder; deze kent grotere filters en aan het eind van de convolutionele layers wordt in successie 3 keer een convolution layer toegepast van 3x3. Bovendien wordt hier gebruik gemaakt van max-pool en van ReLU, waarmee we verwachten dat onze uitkomsten beter zullen zijn."
   ]
  },
  {
   "cell_type": "code",
   "execution_count": 22,
   "metadata": {},
   "outputs": [],
   "source": [
    "model2 = Sequential()"
   ]
  },
  {
   "cell_type": "markdown",
   "metadata": {},
   "source": [
    "Het alexnet architectuur begint met een convolutionaire layer van 11x11. Dit zou wel voor een input zijn van 224x224x3. De derde dimensie klopt, maar we zullen ietsje moeten sjoemelen met de filter-size, willen we dit architectuur überhaupt gebruiken in de eerste plaats voor een input van 32x32x3"
   ]
  },
  {
   "cell_type": "code",
   "execution_count": 23,
   "metadata": {},
   "outputs": [],
   "source": [
    "# Convolutionaire Layer 1\n",
    "model2.add(Conv2D(32,kernel_size=(3,3),input_shape=(32,32,3)))\n",
    "model2.add(BatchNormalization(axis=-1))\n",
    "model2.add(Activation(\"relu\"))\n",
    "model2.add(MaxPooling2D(pool_size=(2,2)))"
   ]
  },
  {
   "cell_type": "code",
   "execution_count": 24,
   "metadata": {},
   "outputs": [],
   "source": [
    "# Convolutionaire Layer 2\n",
    "model2.add(Conv2D(32,kernel_size=(3,3)))\n",
    "model2.add(BatchNormalization(axis=-1))\n",
    "model2.add(Activation(\"relu\"))\n",
    "model2.add(MaxPooling2D(pool_size=(2,2)))"
   ]
  },
  {
   "cell_type": "markdown",
   "metadata": {},
   "source": [
    "En dan gebeurt er iets geks; in dit architectuur wordt een convolutionaire layer 3 keer achter elkaar opgezet zonder er eerst een maxpool bij te doen."
   ]
  },
  {
   "cell_type": "code",
   "execution_count": 25,
   "metadata": {},
   "outputs": [],
   "source": [
    "# Convolutionaire Layer 3\n",
    "model2.add(Conv2D(3,kernel_size=(3,3)))\n",
    "model2.add(BatchNormalization(axis=-1))\n",
    "model2.add(Activation(\"relu\"))"
   ]
  },
  {
   "cell_type": "code",
   "execution_count": 26,
   "metadata": {},
   "outputs": [],
   "source": [
    "# Convolutionaire Layer 4\n",
    "model2.add(Conv2D(3,kernel_size=(2,2)))\n",
    "model2.add(BatchNormalization(axis=-1))\n",
    "model2.add(Activation(\"relu\"))"
   ]
  },
  {
   "cell_type": "code",
   "execution_count": 27,
   "metadata": {},
   "outputs": [],
   "source": [
    "# Convolutionaire Layer 5\n",
    "model2.add(Conv2D(3,kernel_size=(2,2)))\n",
    "model2.add(BatchNormalization(axis=-1))\n",
    "model2.add(Activation(\"relu\"))\n",
    "model2.add(MaxPooling2D(pool_size=(2,2)))\n",
    "model2.add(Flatten())"
   ]
  },
  {
   "cell_type": "markdown",
   "metadata": {},
   "source": []
  },
  {
   "cell_type": "code",
   "execution_count": 28,
   "metadata": {},
   "outputs": [],
   "source": [
    "# Fully connected Layer 6\n",
    "model2.add(Dense(4096))\n",
    "model2.add(Dropout(0.2))\n",
    "model2.add(Activation(\"relu\"))\n",
    "model2.add(BatchNormalization(axis=-1))"
   ]
  },
  {
   "cell_type": "code",
   "execution_count": 29,
   "metadata": {},
   "outputs": [],
   "source": [
    "# Fully connected Layer 7\n",
    "model2.add(Dense(256))\n",
    "model2.add(Dropout(0.2))\n",
    "model2.add(Activation(\"relu\"))\n",
    "model2.add(BatchNormalization(axis=-1))"
   ]
  },
  {
   "cell_type": "code",
   "execution_count": 30,
   "metadata": {},
   "outputs": [],
   "source": [
    "# Fully connected Layer 8\n",
    "model2.add(Dense(10))\n",
    "model2.add(Dropout(0.2))\n",
    "model2.add(Activation(\"softmax\"))"
   ]
  },
  {
   "cell_type": "code",
   "execution_count": 31,
   "metadata": {},
   "outputs": [],
   "source": [
    "model2.compile(loss=\"categorical_crossentropy\",optimizer=\"adam\",metrics=[\"accuracy\"])"
   ]
  },
  {
   "cell_type": "code",
   "execution_count": 32,
   "metadata": {},
   "outputs": [
    {
     "name": "stdout",
     "output_type": "stream",
     "text": [
      "Epoch 1/10\n",
      "1000/1000 [==============================] - 60s 60ms/step - loss: 2.3094 - accuracy: 0.1742 - val_loss: 1.9360 - val_accuracy: 0.2505\n",
      "Epoch 2/10\n",
      "1000/1000 [==============================] - 60s 60ms/step - loss: 1.9957 - accuracy: 0.2505 - val_loss: 1.9622 - val_accuracy: 0.2799\n",
      "Epoch 3/10\n",
      "1000/1000 [==============================] - 62s 62ms/step - loss: 1.8959 - accuracy: 0.2952 - val_loss: 2.0875 - val_accuracy: 0.2931\n",
      "Epoch 4/10\n",
      "1000/1000 [==============================] - 59s 59ms/step - loss: 1.8055 - accuracy: 0.3332 - val_loss: 1.9814 - val_accuracy: 0.3063\n",
      "Epoch 5/10\n",
      "1000/1000 [==============================] - 62s 62ms/step - loss: 1.7332 - accuracy: 0.3597 - val_loss: 1.6304 - val_accuracy: 0.3917\n",
      "Epoch 6/10\n",
      "1000/1000 [==============================] - 61s 61ms/step - loss: 1.6862 - accuracy: 0.3738 - val_loss: 1.6507 - val_accuracy: 0.3631\n",
      "Epoch 7/10\n",
      "1000/1000 [==============================] - 61s 61ms/step - loss: 1.6541 - accuracy: 0.3847 - val_loss: 1.5481 - val_accuracy: 0.4165\n",
      "Epoch 8/10\n",
      "1000/1000 [==============================] - 63s 63ms/step - loss: 1.6233 - accuracy: 0.3979 - val_loss: 1.5219 - val_accuracy: 0.4323\n",
      "Epoch 9/10\n",
      "1000/1000 [==============================] - 58s 58ms/step - loss: 1.6029 - accuracy: 0.4080 - val_loss: 1.4537 - val_accuracy: 0.4541\n",
      "Epoch 10/10\n",
      "1000/1000 [==============================] - 59s 59ms/step - loss: 1.5847 - accuracy: 0.4132 - val_loss: 1.4900 - val_accuracy: 0.4369\n"
     ]
    }
   ],
   "source": [
    "outcome21 = model2.fit(X_train,Y_train,epochs=10,batch_size=40,validation_split=0.2)"
   ]
  },
  {
   "cell_type": "code",
   "execution_count": 33,
   "metadata": {},
   "outputs": [
    {
     "data": {
      "text/plain": [
       "[<matplotlib.lines.Line2D at 0x239a4a918b0>]"
      ]
     },
     "execution_count": 33,
     "metadata": {},
     "output_type": "execute_result"
    },
    {
     "data": {
      "image/png": "[encoded data removed]",
      "text/plain": [
       "<Figure size 432x288 with 1 Axes>"
      ]
     },
     "metadata": {
      "needs_background": "light"
     },
     "output_type": "display_data"
    }
   ],
   "source": [
    "# outcome.history.keys()\n",
    "plt.plot(outcome21.history['accuracy'],label=\"Train set accuracy\")\n",
    "plt.plot(outcome21.history['loss'],label=\"Train set loss\")"
   ]
  },
  {
   "cell_type": "code",
   "execution_count": 34,
   "metadata": {},
   "outputs": [
    {
     "name": "stdout",
     "output_type": "stream",
     "text": [
      "313/313 [==============================] - 2s 8ms/step - loss: 1.4952 - accuracy: 0.4350\n"
     ]
    }
   ],
   "source": [
    "outcome22 = model2.evaluate(X_test,Y_test)"
   ]
  },
  {
   "cell_type": "code",
   "execution_count": 35,
   "metadata": {},
   "outputs": [
    {
     "data": {
      "text/plain": [
       "[<matplotlib.lines.Line2D at 0x239a4c6ffd0>]"
      ]
     },
     "execution_count": 35,
     "metadata": {},
     "output_type": "execute_result"
    },
    {
     "data": {
      "image/png": "[encoded data removed]",
      "text/plain": [
       "<Figure size 432x288 with 1 Axes>"
      ]
     },
     "metadata": {
      "needs_background": "light"
     },
     "output_type": "display_data"
    }
   ],
   "source": [
    "plt.plot(outcome21.history['accuracy'],label=\"Train set accuracy\")\n",
    "plt.plot(outcome21.history['loss'],label=\"Train set loss\")\n",
    "plt.plot(outcome21.history['val_accuracy'],label=\"Validation set accuracy\")\n",
    "plt.plot(outcome21.history['val_loss'],label=\"Validation set loss\")"
   ]
  },
  {
   "cell_type": "markdown",
   "metadata": {},
   "source": [
    "Ook hier zien we weer dat het netwerk niet echt goed werkt. Dit heeft te maken met dat het gegeven architectuur wat we proberen na te volgen gemaakt is voor plaatsjes van formaat 224x224x3. We zullen dus zelf met een soort variant moeten komen van het eerste netwerk om een optimale score te verkrijgen."
   ]
  },
  {
   "cell_type": "markdown",
   "metadata": {},
   "source": [
    "# Gerrit's Voorstel\n",
    "Het architectuur van LeNet-5 komt aardig dicht in de buurt van wat we uiteindelijk willen hebben. Deze gebruikt alleen nog niet de perfect methodes. Door andere methodes toe te passen (MaxPool i.p.v. AveragePool, ReLU i.p.v. tanh, Patterns voor de convolutionairy layers) willen we de nauwkeurigheid van dit structuur verbeteren."
   ]
  },
  {
   "cell_type": "markdown",
   "metadata": {},
   "source": [
    "We beginnen in principe altijd met een Sequential model."
   ]
  },
  {
   "cell_type": "code",
   "execution_count": 50,
   "metadata": {},
   "outputs": [],
   "source": [
    "model3 = Sequential()"
   ]
  },
  {
   "cell_type": "markdown",
   "metadata": {},
   "source": [
    "Daarna willen we convolutionary layer(s) gaan toevoegen; dat is waar een convolutionary network überhaupt mee begint. Onze eerste convolutionary layer hoort te werken met de input; een shape van 32x32x3; dus 3 filters en (in overeenkomst met ons architectuur) een filtergrootte van 5x5."
   ]
  },
  {
   "cell_type": "code",
   "execution_count": 51,
   "metadata": {},
   "outputs": [],
   "source": [
    "# Convolutionary Layer 1\n",
    "model3.add(Conv2D(32,kernel_size=(5,5),input_shape=(32,32,3)))  # Van 32x32 naar 27x27\n",
    "model3.add(BatchNormalization(axis=-1))  # In principe altijd normaliseren!\n",
    "model3.add(Activation(\"relu\"))"
   ]
  },
  {
   "cell_type": "markdown",
   "metadata": {},
   "source": [
    "Dan nog één keer hetzelfde blok. Dit is het laatste blok voordat we in het daadwerkelijke neurale netwerk terecht komen; daarvoor willen we gebruik maken van een Flatten zodat het er in past."
   ]
  },
  {
   "cell_type": "code",
   "execution_count": 52,
   "metadata": {},
   "outputs": [],
   "source": [
    "# Convolutionary Layer 2\n",
    "model3.add(Conv2D(32,kernel_size=(5,5),input_shape=(32,32,3)))  # Van 27x27 naar 22x22\n",
    "model3.add(BatchNormalization(axis=-1))  # In principe altijd normaliseren!\n",
    "model3.add(Activation(\"relu\"))"
   ]
  },
  {
   "cell_type": "code",
   "execution_count": 53,
   "metadata": {},
   "outputs": [],
   "source": [
    "# Convolutionary Layer 3\n",
    "model3.add(Conv2D(32,kernel_size=(3,3)))  # Van 22x22 naar 20x20 \n",
    "model3.add(BatchNormalization(axis=-1))  # In principe altijd normaliseren!\n",
    "model3.add(Activation(\"relu\"))\n",
    "model3.add(MaxPooling2D(pool_size=(2,2)))  # Van 20x20 naar 10x10"
   ]
  },
  {
   "cell_type": "code",
   "execution_count": 54,
   "metadata": {},
   "outputs": [],
   "source": [
    "# Convolutionary Layer 3\n",
    "model3.add(Conv2D(32,kernel_size=(3,3),input_shape=(32,32,3)))  # Van 10x10 naar 8x8\n",
    "model3.add(BatchNormalization(axis=-1))  # In principe altijd normaliseren!\n",
    "model3.add(Activation(\"relu\"))\n",
    "model3.add(MaxPooling2D(pool_size=(2,2)))  # Van 8x8 naar 4x4 \n",
    "model3.add(Flatten())"
   ]
  },
  {
   "cell_type": "code",
   "execution_count": null,
   "metadata": {},
   "outputs": [],
   "source": []
  },
  {
   "cell_type": "markdown",
   "metadata": {},
   "source": [
    "Nu gaan we over op het neurale netwerk wat hier aan vast zit. Dit zijn 3 layers met verschillende units en activatiefuncties."
   ]
  },
  {
   "cell_type": "code",
   "execution_count": 55,
   "metadata": {},
   "outputs": [],
   "source": [
    "# Fully connected layer 3\n",
    "model3.add(Dense(60))\n",
    "model3.add(Dropout(0.2))\n",
    "model3.add(Activation(\"relu\"))"
   ]
  },
  {
   "cell_type": "code",
   "execution_count": 56,
   "metadata": {},
   "outputs": [],
   "source": [
    "# Fully connected layer 4\n",
    "model3.add(Dense(20))\n",
    "model3.add(Dropout(0.2))\n",
    "model3.add(BatchNormalization())\n",
    "model3.add(Activation(\"relu\"))"
   ]
  },
  {
   "cell_type": "code",
   "execution_count": 57,
   "metadata": {},
   "outputs": [],
   "source": [
    "# Fully connected layer 5 (final)\n",
    "model3.add(Dense(10))\n",
    "model3.add(Dropout(0.2))\n",
    "model3.add(Activation(\"softmax\"))"
   ]
  },
  {
   "cell_type": "markdown",
   "metadata": {},
   "source": [
    "Ons netwerk is nu klaar, we kunnen hem nu gaan compilen en daarna fitten en evalueren. Als loss gebruiken we hier \"categorial_crossentropy\"; deze rekent de error uit als je meer dan twee labels hebt, en als optimizer gebruiken we Adam."
   ]
  },
  {
   "cell_type": "code",
   "execution_count": 58,
   "metadata": {},
   "outputs": [],
   "source": [
    "model3.compile(loss=\"categorical_crossentropy\",optimizer=\"adam\",metrics=[\"accuracy\"])"
   ]
  },
  {
   "cell_type": "code",
   "execution_count": 59,
   "metadata": {},
   "outputs": [
    {
     "name": "stdout",
     "output_type": "stream",
     "text": [
      "Model: \"sequential_3\"\n",
      "_________________________________________________________________\n",
      "Layer (type)                 Output Shape              Param #   \n",
      "=================================================================\n",
      "conv2d_11 (Conv2D)           (None, 28, 28, 32)        2432      \n",
      "_________________________________________________________________\n",
      "batch_normalization_13 (Batc (None, 28, 28, 32)        128       \n",
      "_________________________________________________________________\n",
      "activation_20 (Activation)   (None, 28, 28, 32)        0         \n",
      "_________________________________________________________________\n",
      "conv2d_12 (Conv2D)           (None, 24, 24, 32)        25632     \n",
      "_________________________________________________________________\n",
      "batch_normalization_14 (Batc (None, 24, 24, 32)        128       \n",
      "_________________________________________________________________\n",
      "activation_21 (Activation)   (None, 24, 24, 32)        0         \n",
      "_________________________________________________________________\n",
      "conv2d_13 (Conv2D)           (None, 22, 22, 32)        9248      \n",
      "_________________________________________________________________\n",
      "batch_normalization_15 (Batc (None, 22, 22, 32)        128       \n",
      "_________________________________________________________________\n",
      "activation_22 (Activation)   (None, 22, 22, 32)        0         \n",
      "_________________________________________________________________\n",
      "max_pooling2d_5 (MaxPooling2 (None, 11, 11, 32)        0         \n",
      "_________________________________________________________________\n",
      "conv2d_14 (Conv2D)           (None, 9, 9, 32)          9248      \n",
      "_________________________________________________________________\n",
      "batch_normalization_16 (Batc (None, 9, 9, 32)          128       \n",
      "_________________________________________________________________\n",
      "activation_23 (Activation)   (None, 9, 9, 32)          0         \n",
      "_________________________________________________________________\n",
      "max_pooling2d_6 (MaxPooling2 (None, 4, 4, 32)          0         \n",
      "_________________________________________________________________\n",
      "flatten_3 (Flatten)          (None, 512)               0         \n",
      "_________________________________________________________________\n",
      "dense_9 (Dense)              (None, 60)                30780     \n",
      "_________________________________________________________________\n",
      "dropout_6 (Dropout)          (None, 60)                0         \n",
      "_________________________________________________________________\n",
      "activation_24 (Activation)   (None, 60)                0         \n",
      "_________________________________________________________________\n",
      "dense_10 (Dense)             (None, 20)                1220      \n",
      "_________________________________________________________________\n",
      "dropout_7 (Dropout)          (None, 20)                0         \n",
      "_________________________________________________________________\n",
      "batch_normalization_17 (Batc (None, 20)                80        \n",
      "_________________________________________________________________\n",
      "activation_25 (Activation)   (None, 20)                0         \n",
      "_________________________________________________________________\n",
      "dense_11 (Dense)             (None, 10)                210       \n",
      "_________________________________________________________________\n",
      "dropout_8 (Dropout)          (None, 10)                0         \n",
      "_________________________________________________________________\n",
      "activation_26 (Activation)   (None, 10)                0         \n",
      "=================================================================\n",
      "Total params: 79,362\n",
      "Trainable params: 79,066\n",
      "Non-trainable params: 296\n",
      "_________________________________________________________________\n"
     ]
    }
   ],
   "source": [
    "model3.summary()"
   ]
  },
  {
   "cell_type": "markdown",
   "metadata": {},
   "source": [
    "En dan gaan we nu het model meteen fitten. We gebruiken 20 epochs en een batch_size van 10."
   ]
  },
  {
   "cell_type": "code",
   "execution_count": 60,
   "metadata": {},
   "outputs": [
    {
     "name": "stdout",
     "output_type": "stream",
     "text": [
      "Epoch 1/20\n",
      "4000/4000 [==============================] - 145s 36ms/step - loss: 1.9531 - accuracy: 0.2896 - val_loss: 1.7141 - val_accuracy: 0.3702\n",
      "Epoch 2/20\n",
      "4000/4000 [==============================] - 162s 41ms/step - loss: 1.7184 - accuracy: 0.3869 - val_loss: 1.5024 - val_accuracy: 0.4652\n",
      "Epoch 3/20\n",
      "4000/4000 [==============================] - 204s 51ms/step - loss: 1.6006 - accuracy: 0.4317 - val_loss: 1.2754 - val_accuracy: 0.5510\n",
      "Epoch 4/20\n",
      "4000/4000 [==============================] - 205s 51ms/step - loss: 1.5170 - accuracy: 0.4647 - val_loss: 1.2271 - val_accuracy: 0.5692\n",
      "Epoch 5/20\n",
      "4000/4000 [==============================] - 207s 52ms/step - loss: 1.4583 - accuracy: 0.4923 - val_loss: 1.0939 - val_accuracy: 0.6166\n",
      "Epoch 6/20\n",
      "4000/4000 [==============================] - 225s 56ms/step - loss: 1.4088 - accuracy: 0.5073 - val_loss: 1.0363 - val_accuracy: 0.6442\n",
      "Epoch 7/20\n",
      "4000/4000 [==============================] - 212s 53ms/step - loss: 1.3665 - accuracy: 0.5250 - val_loss: 1.0376 - val_accuracy: 0.6447\n",
      "Epoch 8/20\n",
      "4000/4000 [==============================] - 195s 49ms/step - loss: 1.3370 - accuracy: 0.5336 - val_loss: 1.1019 - val_accuracy: 0.6154\n",
      "Epoch 9/20\n",
      "4000/4000 [==============================] - 181s 45ms/step - loss: 1.2997 - accuracy: 0.5518 - val_loss: 1.0125 - val_accuracy: 0.6511\n",
      "Epoch 10/20\n",
      "4000/4000 [==============================] - 190s 47ms/step - loss: 1.2823 - accuracy: 0.5569 - val_loss: 0.9470 - val_accuracy: 0.6795\n",
      "Epoch 11/20\n",
      "4000/4000 [==============================] - 195s 49ms/step - loss: 1.2625 - accuracy: 0.5616 - val_loss: 0.9309 - val_accuracy: 0.6809\n",
      "Epoch 12/20\n",
      "4000/4000 [==============================] - 185s 46ms/step - loss: 1.2426 - accuracy: 0.5695 - val_loss: 0.9174 - val_accuracy: 0.6864\n",
      "Epoch 13/20\n",
      "4000/4000 [==============================] - 180s 45ms/step - loss: 1.2228 - accuracy: 0.5761 - val_loss: 0.9408 - val_accuracy: 0.6700\n",
      "Epoch 14/20\n",
      "4000/4000 [==============================] - 179s 45ms/step - loss: 1.2024 - accuracy: 0.5841 - val_loss: 0.9033 - val_accuracy: 0.6892\n",
      "Epoch 15/20\n",
      "4000/4000 [==============================] - 181s 45ms/step - loss: 1.1963 - accuracy: 0.5871 - val_loss: 0.8764 - val_accuracy: 0.7058\n",
      "Epoch 16/20\n",
      "4000/4000 [==============================] - 181s 45ms/step - loss: 1.1807 - accuracy: 0.5893 - val_loss: 0.9024 - val_accuracy: 0.6968\n",
      "Epoch 17/20\n",
      "4000/4000 [==============================] - 179s 45ms/step - loss: 1.1625 - accuracy: 0.5968 - val_loss: 0.9239 - val_accuracy: 0.6837\n",
      "Epoch 18/20\n",
      "4000/4000 [==============================] - 178s 44ms/step - loss: 1.1514 - accuracy: 0.6000 - val_loss: 0.8728 - val_accuracy: 0.6975\n",
      "Epoch 19/20\n",
      "4000/4000 [==============================] - 179s 45ms/step - loss: 1.1474 - accuracy: 0.6029 - val_loss: 0.8759 - val_accuracy: 0.6987\n",
      "Epoch 20/20\n",
      "4000/4000 [==============================] - 178s 45ms/step - loss: 1.1308 - accuracy: 0.6078 - val_loss: 0.8461 - val_accuracy: 0.7121\n"
     ]
    }
   ],
   "source": [
    "outcome11 = model3.fit(X_train,Y_train,batch_size=10,epochs=20,validation_split=0.2)"
   ]
  },
  {
   "cell_type": "markdown",
   "metadata": {},
   "source": [
    "# Stap 4 - Evalueren\n",
    "We doen het evalueren op basis van het vergelijken van de loss en de nauwkeurigheid met de trainingsset, en daarna ook nog met de validatieset (die tijdens het fitten is opgesteld)"
   ]
  },
  {
   "cell_type": "code",
   "execution_count": 61,
   "metadata": {},
   "outputs": [
    {
     "data": {
      "text/plain": [
       "<matplotlib.legend.Legend at 0x239a7281490>"
      ]
     },
     "execution_count": 61,
     "metadata": {},
     "output_type": "execute_result"
    },
    {
     "data": {
      "image/png": "[encoded data removed]",
      "text/plain": [
       "<Figure size 432x288 with 1 Axes>"
      ]
     },
     "metadata": {
      "needs_background": "light"
     },
     "output_type": "display_data"
    }
   ],
   "source": [
    "# outcome.history.keys()\n",
    "plt.plot(outcome11.history['accuracy'],label=\"Train set accuracy\")\n",
    "plt.plot(outcome11.history['loss'],label=\"Train set loss\")\n",
    "plt.legend()"
   ]
  },
  {
   "cell_type": "code",
   "execution_count": 62,
   "metadata": {},
   "outputs": [
    {
     "name": "stdout",
     "output_type": "stream",
     "text": [
      "313/313 [==============================] - 6s 19ms/step - loss: 0.8606 - accuracy: 0.7100\n"
     ]
    }
   ],
   "source": [
    "outcome12 = model3.evaluate(X_test,Y_test)"
   ]
  },
  {
   "cell_type": "code",
   "execution_count": 63,
   "metadata": {},
   "outputs": [
    {
     "data": {
      "text/plain": [
       "<matplotlib.legend.Legend at 0x239a8422e80>"
      ]
     },
     "execution_count": 63,
     "metadata": {},
     "output_type": "execute_result"
    },
    {
     "data": {
      "image/png": "[encoded data removed]",
      "text/plain": [
       "<Figure size 432x288 with 1 Axes>"
      ]
     },
     "metadata": {
      "needs_background": "light"
     },
     "output_type": "display_data"
    }
   ],
   "source": [
    "outcome11.history.keys()\n",
    "plt.plot(outcome11.history['accuracy'],label=\"Train set accuracy\")\n",
    "plt.plot(outcome11.history['loss'],label=\"Train set loss\")\n",
    "plt.plot(outcome11.history['val_accuracy'],label=\"Validation set accuracy\")\n",
    "plt.plot(outcome11.history['val_loss'],label=\"Validation set loss\")\n",
    "plt.legend()"
   ]
  },
  {
   "cell_type": "markdown",
   "metadata": {},
   "source": [
    "Met onze aanpassingen zijn we toch op een mooie accuracy van rond de 71 % terecht gekomen, wat in mijn opinie al best wel goed is voor een netwerk zonder verder toegepaste trucjes (zoals l1l2 regularization, andere optimizers, e.d.). Bovendien ziet het er naar uit dat ons netwerk niet overfit is; er zijn wel wat onregelmatigheden te zien in de laatste plot, maar aanzich niks extreems. Bovendien komt de loss en nauwkeurigheid van het toepassen van ons model op de testset enigszins overeen met de nauwkeurigheid en de loss op de validatieset."
   ]
  },
  {
   "cell_type": "code",
   "execution_count": 143,
   "metadata": {},
   "outputs": [
    {
     "data": {
      "text/plain": [
       "Text(0.5, 1.0, 'Class: [5], Predicted: [5]')"
      ]
     },
     "execution_count": 143,
     "metadata": {},
     "output_type": "execute_result"
    },
    {
     "data": {
      "image/png": "[encoded data removed]",
      "text/plain": [
       "<Figure size 432x288 with 1 Axes>"
      ]
     },
     "metadata": {
      "needs_background": "light"
     },
     "output_type": "display_data"
    }
   ],
   "source": [
    "# Deze cel pakt de voorspelling van een netwerkt en checkt het plaatje wat daarbij hoort.\n",
    "randomindex = random.randrange(len(X_train))\n",
    "outcome = model3.predict(X_train[randomindex].reshape(1,32,32,3))\n",
    "classoutcome = np.where(outcome[0] == max(outcome[0]))\n",
    "classoutcome[0][0]\n",
    "plt.imshow(X_train[randomindex])\n",
    "plt.title(\"Class: {}, Predicted: {}\".format(Y_train_labels[randomindex],classoutcome[0]))"
   ]
  },
  {
   "cell_type": "code",
   "execution_count": null,
   "metadata": {},
   "outputs": [],
   "source": []
  },
  {
   "cell_type": "code",
   "execution_count": null,
   "metadata": {},
   "outputs": [],
   "source": []
  }
 ],
 "metadata": {
  "kernelspec": {
   "display_name": "Python 3",
   "language": "python",
   "name": "python3"
  },
  "language_info": {
   "codemirror_mode": {
    "name": "ipython",
    "version": 3
   },
   "file_extension": ".py",
   "mimetype": "text/x-python",
   "name": "python",
   "nbconvert_exporter": "python",
   "pygments_lexer": "ipython3",
   "version": "3.8.3"
  }
 },
 "nbformat": 4,
 "nbformat_minor": 4
}
